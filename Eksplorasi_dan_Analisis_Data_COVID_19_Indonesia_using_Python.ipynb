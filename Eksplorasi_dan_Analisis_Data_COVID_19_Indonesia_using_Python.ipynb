{
  "nbformat": 4,
  "nbformat_minor": 0,
  "metadata": {
    "colab": {
      "name": "Eksplorasi dan Analisis Data COVID-19 Indonesia using Python",
      "provenance": [],
      "toc_visible": true,
      "authorship_tag": "ABX9TyNO2sTO7TvoZHmm6g0auhZb",
      "include_colab_link": true
    },
    "kernelspec": {
      "name": "python3",
      "display_name": "Python 3"
    },
    "language_info": {
      "name": "python"
    }
  },
  "cells": [
    {
      "cell_type": "markdown",
      "metadata": {
        "id": "view-in-github",
        "colab_type": "text"
      },
      "source": [
        "<a href=\"https://colab.research.google.com/github/vidyaaprilia/portofolio/blob/main/Eksplorasi_dan_Analisis_Data_COVID_19_Indonesia_using_Python.ipynb\" target=\"_parent\"><img src=\"https://colab.research.google.com/assets/colab-badge.svg\" alt=\"Open In Colab\"/></a>"
      ]
    },
    {
      "cell_type": "markdown",
      "source": [
        "## Eksplorasi dan Analisis Data COVID-19 Indonesia using Python\n",
        "\n",
        "**Latar Belakang Project**\n",
        "\n",
        "COVID-19 merupakan penyakit yang saat ini telah menjadi pandemi secara global. Kondisi menjadi semakin mengkhawatirkan karena hingga detik ini masih belum ditemukan vaksin yang efektif untuk virus penyebab COVID-19. Pemerintah di berbagai negara umumnya dengan sigap membentuk gugus tugas (task force unit) untuk menangani penyebaran COVID-19 di masyarakat, termasuk pemerintah di Indonesia.\n",
        "\n",
        "Salah satu bentuk aksi yang dilakukan oleh pemerintah adalah dengan mengumpulkan dan menyediakan data pertumbuhan kasus COVID-19 kepada publik. Data pertumbuhan kasus tersebut tidak jarang juga dilengkapi dengan dasbor dan grafik visualisasi pendukung dengan harapan masyarakat dapat memahami informasi dengan lebih mudah. Sebagai contoh adalah portal covid19.go.id besutan Gugus Tugas Penanganan COVID-19 Nasional dan portal PIKOBAR milik pemerintah Provinsi Jawa Barat. Serta banyak portal data COVID-19 lainnya yang disediakan oleh masing-masing pemerintah daerah."
      ],
      "metadata": {
        "id": "KbHG6rpxSWm4"
      }
    },
    {
      "cell_type": "markdown",
      "source": [
        "**Mengakses API covid19.go.id**\n",
        "\n",
        "Rekapitulasi data COVID-19 Indonesia tersedia dalam API publik yang beralamat di https://data.covid19.go.id/public/api/update.json.\n",
        "\n",
        "Salah satu cara untuk mengakses API adalah dengan menggunakan fungsi get() dari library requests.\n",
        "\n",
        "Sekarang aktifkanlah library requests dan jalankan fungsi get() pada alamat API yang telah disebutkan! Simpan hasil fungsi tersebut dalam obyek bernama resp."
      ],
      "metadata": {
        "id": "CR6MO-OPStkf"
      }
    },
    {
      "cell_type": "code",
      "source": [
        "import requests\n",
        "resp = requests.get('https://data.covid19.go.id/public/api/update.json', verify=False)"
      ],
      "metadata": {
        "colab": {
          "base_uri": "https://localhost:8080/"
        },
        "id": "nKzqHOe4V6WX",
        "outputId": "c7550ce9-d83a-445d-b9b2-e5b24b092953"
      },
      "execution_count": null,
      "outputs": [
        {
          "output_type": "stream",
          "name": "stderr",
          "text": [
            "/usr/local/lib/python3.7/dist-packages/urllib3/connectionpool.py:847: InsecureRequestWarning: Unverified HTTPS request is being made. Adding certificate verification is strongly advised. See: https://urllib3.readthedocs.io/en/latest/advanced-usage.html#ssl-warnings\n",
            "  InsecureRequestWarning)\n"
          ]
        }
      ]
    },
    {
      "cell_type": "markdown",
      "source": [
        "**Mengevaluasi Respon**\n",
        "\n",
        "Saat Anda menjalankan fungsi get(), pada dasarnya hal yang terjadi adalah Anda membuat sebuah permintaan kepada server penyedia API. Permintaan Anda tersebut selanjutnya diproses dan dijawab oleh server sebagai sebuah respon. Objek resp yang telah Anda buat memiliki informasi respon oleh server.\n",
        "\n",
        "Ada tiga informasi utama dalam sebuah respon API, yaitu status, headers, dan body. Status memiliki informasi apakah permintaan Anda berhasil atau tidak dan dinyatakan dalam status code, headers umumnya mengandung informasi metadata, sedangkan body berisikan konten atas permintaan yang telah dibuat."
      ],
      "metadata": {
        "id": "SWIjoNmEWJP_"
      }
    },
    {
      "cell_type": "markdown",
      "source": [
        "**Status Code**\n",
        "\n",
        "Ada beberapa jenis status code yang umumnya dijumpai, antara lain:\n",
        "\n",
        "*   200 Artinya permintaan sukses dipenuhi\n",
        "*   300 Artinya berkas yang diminta tidak dapat ditemukan.\n",
        "*   400 Artinya akses permintaan ditolak.\n",
        "*   500 Artinya terjadi kesalahan pada server.\n",
        "\n",
        "Artinya permintaan sukses dipenuhi.\n",
        "Artinya berkas yang diminta tidak dapat ditemukan.\n",
        "Artinya akses permintaan ditolak.\n",
        "Artinya terjadi kesalahan pada server.\n",
        "Informasi lengkap mengenai jenis-jenis status code dapat Anda pelajari di https://restfulapi.net/http-status-codes/"
      ],
      "metadata": {
        "id": "nvyVo4mLXSaW"
      }
    },
    {
      "cell_type": "code",
      "source": [
        "print(resp)"
      ],
      "metadata": {
        "colab": {
          "base_uri": "https://localhost:8080/"
        },
        "id": "ncyIbbJJX7_j",
        "outputId": "bf175166-1902-4b19-8988-8f8bff17bbc1"
      },
      "execution_count": null,
      "outputs": [
        {
          "output_type": "stream",
          "name": "stdout",
          "text": [
            "<Response [200]>\n"
          ]
        }
      ]
    },
    {
      "cell_type": "markdown",
      "source": [
        "**Mengekstrak Isi Respon**\n",
        "\n",
        "Respon API dengan status code 200 menyatakan bahwa permintaan kita berhasil dipenuhi dan konten yang diminta tersedia untuk diekstrak. Selain itu kita juga telah mengetahui lewat attribut headers bahwa konten yang diminta tersedia dalam bentuk application/json, yaitu berkas JSON.\n",
        "\n",
        "Selanjutnya kita dapat mengekstrak konten tersebut dengan menggunakan method json(). Method json() merupakan builtin JSON decoder untuk mengekstrak content bertipe JSON. Jalankan method json() pada obyek resp dan simpanlah hasilnya sebagai cov_id_raw!\n",
        "\n",
        "cov_id_raw ini bertipe data dictionary\n"
      ],
      "metadata": {
        "id": "LedkmQiJY4QF"
      }
    },
    {
      "cell_type": "code",
      "source": [
        "cov_id_raw = resp.json()"
      ],
      "metadata": {
        "id": "GlGKFdm_Z34Q"
      },
      "execution_count": null,
      "outputs": []
    },
    {
      "cell_type": "markdown",
      "source": [
        "Dengan menggunakan fungsi len() dan keys() cobalah amati ada berapa komponen serta apa saja nama komponen dalam obyek cov_id_raw tersebut! Kemudian ekstraklah key ke-2 dan simpan dengan nama cov_id_update."
      ],
      "metadata": {
        "id": "35Bd4cDWZ_bV"
      }
    },
    {
      "cell_type": "code",
      "source": [
        "print('Length of cov_id_raw : %d.' %len(cov_id_raw))\n",
        "print('Komponen cov_id_raw : %s.' %cov_id_raw.keys())\n",
        "cov_id_update = cov_id_raw['update']"
      ],
      "metadata": {
        "colab": {
          "base_uri": "https://localhost:8080/"
        },
        "id": "aRbCmiP0aEWC",
        "outputId": "cc2fb5d2-9be8-42ec-ffcf-0acbdf98b034"
      },
      "execution_count": null,
      "outputs": [
        {
          "output_type": "stream",
          "name": "stdout",
          "text": [
            "Length of cov_id_raw : 2.\n",
            "Komponen cov_id_raw : dict_keys(['data', 'update']).\n"
          ]
        }
      ]
    },
    {
      "cell_type": "markdown",
      "source": [
        "**Analisa Data**\n",
        "\n",
        "Sekarang Anda diminta untuk fokus pada obyek cov_id_update untuk menjawab pertanyaan-pertanyaan berikut:\n",
        "\n",
        "\n",
        "\n",
        "1.   Kapan tanggal pembaharuan data penambahan kasus?\n",
        "2.   Berapa jumlah penambahan kasus sembuh?\n",
        "3.   Berapa jumlah penambahan kasus meninggal?\n",
        "4.   Berapa jumlah total kasus positif hingga saat ini?\n",
        "5.   Berapa jumlah total kasus meninggal hingga saat ini?\n"
      ],
      "metadata": {
        "id": "M9cn71yda2VJ"
      }
    },
    {
      "cell_type": "code",
      "source": [
        "print('Tanggal pembaharuan data penambahan kasus :', cov_id_update['penambahan']['tanggal'])\n",
        "print('Jumlah penambahan kasus sembuh :', cov_id_update['penambahan']['jumlah_sembuh'])\n",
        "print('Jumlah penambahan kasus meninggal :', cov_id_update['penambahan']['jumlah_meninggal'])\n",
        "print('Jumlah total kasus positif hingga saat ini :', cov_id_update['total']['jumlah_positif'])\n",
        "print('Jumlah total kasus meninggal hingga saat ini:', cov_id_update['total']['jumlah_meninggal'])"
      ],
      "metadata": {
        "colab": {
          "base_uri": "https://localhost:8080/"
        },
        "id": "_ZPg4MDNb_qj",
        "outputId": "169dd3e9-bb47-4c52-fc19-c06fe5944af6"
      },
      "execution_count": null,
      "outputs": [
        {
          "output_type": "stream",
          "name": "stdout",
          "text": [
            "Tanggal pembaharuan data penambahan kasus : 2022-05-18\n",
            "Jumlah penambahan kasus sembuh : 364\n",
            "Jumlah penambahan kasus meninggal : 17\n",
            "Jumlah total kasus positif hingga saat ini : 6051532\n",
            "Jumlah total kasus meninggal hingga saat ini: 156498\n"
          ]
        }
      ]
    },
    {
      "cell_type": "markdown",
      "source": [
        "**Apa Kabar Jawa Barat?**\n",
        "\n",
        "Kita telah berhasil menjawab pertanyaan mengenai kondisi COVID-19 di Indonesia dengan menggunakan data yang langsung diambil menggunakan API. Namun bagaimana jika kita ingin berfokus dengan data COVID-19 di provinsi tempat menetap saat ini?\n",
        "\n",
        "covid19.go.id menyediakan data kasus COVID-19 tingkat provinsi di alamat API yang berbeda. Sebagai data mengenai COVID-19 Jawa Barat, tempat tinggal saya sekarang, tersedia di https://data.covid19.go.id/public/api/prov_detail_JAWA_BARAT.json."
      ],
      "metadata": {
        "id": "PcAoaDzqcMRm"
      }
    },
    {
      "cell_type": "code",
      "source": [
        "import requests\n",
        "resp_jabar = requests.get('https://data.covid19.go.id/public/api/prov_detail_JAWA_BARAT.json')\n",
        "cov_jabar_raw = resp_jabar.json()"
      ],
      "metadata": {
        "id": "OwjmDulWf2r-"
      },
      "execution_count": null,
      "outputs": []
    },
    {
      "cell_type": "markdown",
      "source": [
        "**Memahami Kasus COVID-19 di Jawa Barat**\n",
        "\n",
        "Sekarang kita jalankan method keys() pada cov_jabar_raw tersebut untuk mengetahui nama-nama elemen utama yang tersedia dan jawablah pertanyaan berikut:\n",
        "\n",
        "1.   Berapa jumlah total kasus COVID-19 di Jawa Barat?\n",
        "2.   Berapa persentase kematian akibat COVID-19 di Jawa Barat?\n",
        "3.   Berapa persentase tingkat kesembuhan dari COVID-19 di Jawa Barat?\n"
      ],
      "metadata": {
        "id": "w3LO9w2qhxmI"
      }
    },
    {
      "cell_type": "code",
      "source": [
        "print('Nama-nama elemen utama:\\n', cov_jabar_raw.keys())\n",
        "print('\\nJumlah total kasus COVID-19 di Jawa Barat : %d' %cov_jabar_raw['kasus_total'])\n",
        "print('Persentase kematian akibat COVID-19 di Jawa Barat : %f.2%%' %cov_jabar_raw['meninggal_persen'])\n",
        "print('Persentase tingkat kesembuhan dari COVID-19 di Jawa Barat : %f.2%%' %cov_jabar_raw['sembuh_persen'])"
      ],
      "metadata": {
        "colab": {
          "base_uri": "https://localhost:8080/"
        },
        "id": "ZYX1y4OZiOct",
        "outputId": "43039b2a-6955-4c5d-f00d-c446ecd9f91b"
      },
      "execution_count": null,
      "outputs": [
        {
          "output_type": "stream",
          "name": "stdout",
          "text": [
            "Nama-nama elemen utama:\n",
            " dict_keys(['last_date', 'provinsi', 'kasus_total', 'kasus_tanpa_tgl', 'kasus_dengan_tgl', 'meninggal_persen', 'meninggal_tanpa_tgl', 'meninggal_dengan_tgl', 'sembuh_persen', 'sembuh_tanpa_tgl', 'sembuh_dengan_tgl', 'list_perkembangan', 'data'])\n",
            "\n",
            "Jumlah total kasus COVID-19 di Jawa Barat : 1106085\n",
            "Persentase kematian akibat COVID-19 di Jawa Barat : 1.428462.2%\n",
            "Persentase tingkat kesembuhan dari COVID-19 di Jawa Barat : 98.525972.2%\n"
          ]
        }
      ]
    },
    {
      "cell_type": "markdown",
      "source": [
        "**Memperoleh Informasi yang Lebih Lengkap**\n",
        "\n",
        "Informasi umum mengenai COVID-19 di Jawa Barat telah kita dapatkan. Namun informasi akan lebih lengkap jika kita memiliki data perkembangan COVID-19 dari waktu ke waktu.\n",
        "\n",
        "Informasi tersebut juga disediakan oleh covid19.go.id melalui permintaan API yang telah kita buat sebelumnya. Data historis perkembangan COVID-19 tersebut tersimpan dengan nama list_perkembangan. Ekstrak data tersebut dari cov_jabar_raw dan untuk lebih memudahkan dalam menginspeksi data ubahlah data bertipe dict ke pandas dataframe. Kemudian simpanlah hasilnya sebagai obyek bernama cov_jabar! Amati struktur cov_jabar menggunakan method info() dan head()."
      ],
      "metadata": {
        "id": "D1h-SpwEkCB0"
      }
    },
    {
      "cell_type": "code",
      "source": [
        "import numpy as np\n",
        "import pandas as pd\n",
        "cov_jabar = pd.DataFrame(cov_jabar_raw['list_perkembangan'])\n",
        "print('Info cov_jabar:\\n', cov_jabar.info())\n",
        "print('\\nLima data teratas cov_jabar:\\n', cov_jabar.head())"
      ],
      "metadata": {
        "colab": {
          "base_uri": "https://localhost:8080/"
        },
        "id": "zZ2ySSrAkKoR",
        "outputId": "f08816a6-8fbc-4a50-f835-7d3256cdc23d"
      },
      "execution_count": null,
      "outputs": [
        {
          "output_type": "stream",
          "name": "stdout",
          "text": [
            "<class 'pandas.core.frame.DataFrame'>\n",
            "RangeIndex: 806 entries, 0 to 805\n",
            "Data columns (total 9 columns):\n",
            " #   Column                        Non-Null Count  Dtype\n",
            "---  ------                        --------------  -----\n",
            " 0   tanggal                       806 non-null    int64\n",
            " 1   KASUS                         806 non-null    int64\n",
            " 2   MENINGGAL                     806 non-null    int64\n",
            " 3   SEMBUH                        806 non-null    int64\n",
            " 4   DIRAWAT_OR_ISOLASI            806 non-null    int64\n",
            " 5   AKUMULASI_KASUS               806 non-null    int64\n",
            " 6   AKUMULASI_SEMBUH              806 non-null    int64\n",
            " 7   AKUMULASI_MENINGGAL           806 non-null    int64\n",
            " 8   AKUMULASI_DIRAWAT_OR_ISOLASI  806 non-null    int64\n",
            "dtypes: int64(9)\n",
            "memory usage: 56.8 KB\n",
            "Info cov_jabar:\n",
            " None\n",
            "\n",
            "Lima data teratas cov_jabar:\n",
            "          tanggal  KASUS  MENINGGAL  SEMBUH  DIRAWAT_OR_ISOLASI  \\\n",
            "0  1583193600000      1          1       0                   0   \n",
            "1  1583280000000      1          0       0                   1   \n",
            "2  1583366400000      1          0       0                   1   \n",
            "3  1583452800000      1          0       0                   1   \n",
            "4  1583539200000      0          0       0                   0   \n",
            "\n",
            "   AKUMULASI_KASUS  AKUMULASI_SEMBUH  AKUMULASI_MENINGGAL  \\\n",
            "0                1                 0                    1   \n",
            "1                2                 0                    1   \n",
            "2                3                 0                    1   \n",
            "3                4                 0                    1   \n",
            "4                4                 0                    1   \n",
            "\n",
            "   AKUMULASI_DIRAWAT_OR_ISOLASI  \n",
            "0                             0  \n",
            "1                             1  \n",
            "2                             2  \n",
            "3                             3  \n",
            "4                             3  \n"
          ]
        }
      ]
    },
    {
      "cell_type": "markdown",
      "source": [
        "**Preprocessing Data**\n",
        "\n",
        "Setelah mengekstrak dan mengamati cov_jabar, kita menemukan beberapa kejanggalan pada data tersebut. Diantaranya adalah kejanggalan data pada kolom tanggal dan format penulisan kolom yang tidak konsisten. Sekarang kita akan mencoba melakukan beberapa tahapan untuk preprocessing data tersebut sehingga dapat diolah dan dianalisis dengan lebih mudah.\n",
        "\n",
        "Beberapa tahapan yang akan kita lakukan untuk preprocessing data cov_jabar, yaitu:\n",
        "\n",
        "*   Menghapus kolom DIRAWAT_OR_ISOLASI dan semua kolom yang berisi nilai kumulatif\n",
        "*   Merubah format penulisan semua kolom menjadi huruf kecil\n",
        "*   Mengganti nama kolom kasus menjadi kasus_baru\n",
        "*   Memperbaiki tipe data pada kolom tanggal menggunakan pd.to_datetime"
      ],
      "metadata": {
        "id": "wz4B1S7xpAAr"
      }
    },
    {
      "cell_type": "code",
      "source": [
        "cov_jabar_tidy = (cov_jabar.drop(columns=[item for item in cov_jabar.columns\n",
        "\t\t\t\tif item.startswith('AKUMULASI')\n",
        "\t\t\t\tor item.startswith('DIRAWAT')])\n",
        "\t     .rename(columns=str.lower)\n",
        "\t\t \t .rename(columns={'kasus': 'kasus_baru'})\n",
        "\t\t\t\t  )\n",
        "cov_jabar_tidy['tanggal'] = pd.to_datetime(cov_jabar_tidy['tanggal']*1e6, unit='ns')\n",
        "print('Lima data teratas:\\n', cov_jabar_tidy.head())"
      ],
      "metadata": {
        "colab": {
          "base_uri": "https://localhost:8080/"
        },
        "id": "ShHFMICZp81X",
        "outputId": "098fa595-0fd8-4ac4-bb8e-b6c1cffa23d8"
      },
      "execution_count": null,
      "outputs": [
        {
          "output_type": "stream",
          "name": "stdout",
          "text": [
            "Lima data teratas:\n",
            "      tanggal  kasus_baru  meninggal  sembuh\n",
            "0 2020-03-03           1          1       0\n",
            "1 2020-03-04           1          0       0\n",
            "2 2020-03-05           1          0       0\n",
            "3 2020-03-06           1          0       0\n",
            "4 2020-03-07           0          0       0\n"
          ]
        }
      ]
    },
    {
      "cell_type": "markdown",
      "source": [
        "**Data Visualization**\n",
        "\n",
        "Komponen utama untuk membuat visualisasi antara lain adalah tabel data, kolom data, serta bentuk geometri untuk mempresentasikan data. Sebagai contoh untuk membuat scatter-plot yang diperlukan adalah bentuk geometri titik (.scatter()), line-chart memerlukan geometri garis (.plot()), sedangkan bar-chart memerlukan bentuk geometri batang atau kolom (.bar())."
      ],
      "metadata": {
        "id": "dw8WTRB70JMK"
      }
    },
    {
      "cell_type": "code",
      "source": [
        "import matplotlib.pyplot as plt\n",
        "\n",
        "plt.clf()\n",
        "fig, ax = plt.subplots(figsize=(10,5))\n",
        "ax.bar(data=cov_jabar_tidy, x='tanggal', height='kasus_baru')\n",
        "plt.show()"
      ],
      "metadata": {
        "colab": {
          "base_uri": "https://localhost:8080/",
          "height": 337
        },
        "id": "knsV-tgx30-R",
        "outputId": "89a747ae-4a77-4bab-e0cb-9abe3f3ebb29"
      },
      "execution_count": null,
      "outputs": [
        {
          "output_type": "display_data",
          "data": {
            "text/plain": [
              "<Figure size 432x288 with 0 Axes>"
            ]
          },
          "metadata": {}
        },
        {
          "output_type": "display_data",
          "data": {
            "text/plain": [
              "<Figure size 720x360 with 1 Axes>"
            ],
            "image/png": "[encoded data removed]"
          },
          "metadata": {
            "needs_background": "light"
          }
        }
      ]
    },
    {
      "cell_type": "markdown",
      "source": [
        "Bar chart ini menunjukkan kondisi kasus harian postif COVID19 di Jawab Barat hingga April 2022"
      ],
      "metadata": {
        "id": "7A3g-xAf5VLu"
      }
    },
    {
      "cell_type": "code",
      "source": [
        "import matplotlib.pyplot as plt\n",
        "import matplotlib.dates as mdates\n",
        "\n",
        "plt.clf()\n",
        "fig, ax = plt.subplots(figsize=(10,5))\n",
        "ax.bar(data=cov_jabar_tidy, x='tanggal', height='kasus_baru', color='salmon')\n",
        "fig.suptitle('Kasus Harian Positif COVID-19 di Jawa Barat',\n",
        "y=1.00, fontsize=16, fontweight='bold', ha='center')\n",
        "ax.set_title('Terjadi pelonjakan kasus di awal bulan Juli akibat klaster Secapa AD Bandung',\n",
        "fontsize=10)\n",
        "ax.set_xlabel('')\n",
        "ax.set_ylabel('Jumlah kasus')\n",
        "ax.text(1, -0.1, 'Sumber data: covid.19.go.id', color='blue',\n",
        "\t\tha='right', transform=ax.transAxes)\n",
        "\n",
        "ax.xaxis.set_major_locator(mdates.MonthLocator())\n",
        "ax.xaxis.set_major_formatter(mdates.DateFormatter('%b %Y'))\n",
        "\n",
        "plt.grid(axis='y')\n",
        "plt.tight_layout()\n",
        "plt.show()"
      ],
      "metadata": {
        "colab": {
          "base_uri": "https://localhost:8080/",
          "height": 358
        },
        "id": "J0jXJz-I5eC-",
        "outputId": "65347e85-eb22-4f68-8a49-ba28f3128f9b"
      },
      "execution_count": null,
      "outputs": [
        {
          "output_type": "display_data",
          "data": {
            "text/plain": [
              "<Figure size 432x288 with 0 Axes>"
            ]
          },
          "metadata": {}
        },
        {
          "output_type": "display_data",
          "data": {
            "text/plain": [
              "<Figure size 720x360 with 1 Axes>"
            ],
            "image/png": "[encoded data removed]"
          },
          "metadata": {
            "needs_background": "light"
          }
        }
      ]
    },
    {
      "cell_type": "markdown",
      "source": [
        "**Grafik untuk Kasus Sembuh**\n",
        "\n",
        "Untuk kasus harian sembuh dari COVID19 di Jawa Barat hingga Oktober 2020 ditunjukkan oleh grafik:"
      ],
      "metadata": {
        "id": "ULaZ_NvF6Bl2"
      }
    },
    {
      "cell_type": "code",
      "source": [
        "plt.clf()\n",
        "fig, ax = plt.subplots(figsize=(10,5))\n",
        "ax.bar(data=cov_jabar_tidy, x='tanggal', height='sembuh', color='olivedrab')\n",
        "ax.set_title('Kasus Harian Sembuh Dari COVID-19 di Jawa Barat',\n",
        "fontsize=22)\n",
        "ax.set_xlabel('')\n",
        "ax.set_ylabel('Jumlah kasus')\n",
        "ax.text(1, -0.1, 'Sumber data: covid.19.go.id', color='blue',\n",
        "ha='right', transform=ax.transAxes)\n",
        "\n",
        "ax.xaxis.set_major_locator(mdates.MonthLocator())\n",
        "ax.xaxis.set_major_formatter(mdates.DateFormatter('%b %Y'))\n",
        "\n",
        "plt.grid(axis='y')\n",
        "plt.tight_layout()\n",
        "plt.show()"
      ],
      "metadata": {
        "colab": {
          "base_uri": "https://localhost:8080/",
          "height": 408
        },
        "id": "_MgkOVaVcGbT",
        "outputId": "23466d1e-4b7e-4b98-a33b-484f7cb6636c"
      },
      "execution_count": null,
      "outputs": [
        {
          "output_type": "display_data",
          "data": {
            "text/plain": [
              "<Figure size 432x288 with 0 Axes>"
            ]
          },
          "metadata": {}
        },
        {
          "output_type": "display_data",
          "data": {
            "text/plain": [
              "<Figure size 720x360 with 1 Axes>"
            ],
            "image/png": "[encoded data removed]"
          },
          "metadata": {
            "needs_background": "light"
          }
        }
      ]
    },
    {
      "cell_type": "markdown",
      "source": [
        "**Grafik untuk Kasus Meninggal**\n",
        "\n",
        "Berikut ini ditampilkan kondisi harian meninggal akibat COVID19 di Jawa Barat hingga April 2022"
      ],
      "metadata": {
        "id": "HcQtY2AFkY6L"
      }
    },
    {
      "cell_type": "code",
      "source": [
        "plt.clf()\n",
        "fig, ax = plt.subplots(figsize=(10,5))\n",
        "ax.bar(data=cov_jabar_tidy, x='tanggal', height='meninggal', color='slategrey')\n",
        "ax.set_title('Kasus Harian Meninggal Dari COVID-19 di Jawa Barat',\n",
        "fontsize=22)\n",
        "ax.set_xlabel('')\n",
        "ax.set_ylabel('Jumlah kasus')\n",
        "ax.text(1, -0.1, 'Sumber data: covid.19.go.id', color='blue',\n",
        "ha='right', transform=ax.transAxes)\n",
        "\n",
        "ax.xaxis.set_major_locator(mdates.MonthLocator())\n",
        "ax.xaxis.set_major_formatter(mdates.DateFormatter('%b %Y'))\n",
        "\n",
        "plt.grid(axis='y')\n",
        "plt.tight_layout()\n",
        "plt.show()"
      ],
      "metadata": {
        "colab": {
          "base_uri": "https://localhost:8080/",
          "height": 352
        },
        "id": "6Wg829lNkicj",
        "outputId": "a369a808-9da6-4dfe-b77e-95e06f0ba828"
      },
      "execution_count": null,
      "outputs": [
        {
          "output_type": "display_data",
          "data": {
            "text/plain": [
              "<Figure size 432x288 with 0 Axes>"
            ]
          },
          "metadata": {}
        },
        {
          "output_type": "display_data",
          "data": {
            "text/plain": [
              "<Figure size 720x360 with 1 Axes>"
            ],
            "image/png": "[encoded data removed]"
          },
          "metadata": {
            "needs_background": "light"
          }
        }
      ]
    },
    {
      "cell_type": "markdown",
      "source": [
        "**Apakah Pekan ini Lebih Baik?**\n",
        "\n",
        "Setelah mengamati grafik perkembangan kasus Anda menyadari bahwa terjadi fluktuasi pertambahan kasus harian. Dilandasi hal tersebut Anda kemudian ingin mencoba mengamati bagaimana perkembangan kasus dalam rentang waktu pekanan. Bagaimanakah caranya?\n",
        "\n",
        "Anda dapat dengan mudah mengerjakannya Anda sudah dibantu melalui predefined code, yaitu set terlebih dahulu kolom tanggal pada cov_jabar_tidy sebagai index. Kemudian terapkan method pada time series di pandas, resampling per pekan dan gunakan agregasi penjumlahan. Adapun yang akan digunakan untuk mengekstrak informasi pekan dalam satu tahun adalah weekofyear dan year untuk tahun."
      ],
      "metadata": {
        "id": "qzGiE2rjlldY"
      }
    },
    {
      "cell_type": "code",
      "source": [
        "cov_jabar_pekanan = (cov_jabar_tidy.set_index('tanggal')['kasus_baru']\n",
        ".resample('W')\n",
        ".sum()\n",
        ".reset_index()\n",
        ".rename(columns={'kasus_baru': 'jumlah'})\n",
        ")\n",
        "cov_jabar_pekanan['tahun'] = cov_jabar_pekanan['tanggal'].apply(lambda x: x.year)\n",
        "cov_jabar_pekanan['pekan_ke'] = cov_jabar_pekanan['tanggal'].apply(lambda x: x.weekofyear)\n",
        "cov_jabar_pekanan = cov_jabar_pekanan[['tahun', 'pekan_ke', 'jumlah']]\n",
        "\n",
        "print('Info cov_jabar_pekanan:')\n",
        "cov_jabar_pekanan.info()\n",
        "print('\\nLima data teratas cov_jabar_pekanan:\\n', cov_jabar_pekanan.head())"
      ],
      "metadata": {
        "colab": {
          "base_uri": "https://localhost:8080/"
        },
        "id": "G8-_tTC9l372",
        "outputId": "9d841e52-e410-47cb-8628-3e315ed4947c"
      },
      "execution_count": null,
      "outputs": [
        {
          "output_type": "stream",
          "name": "stdout",
          "text": [
            "Info cov_jabar_pekanan:\n",
            "<class 'pandas.core.frame.DataFrame'>\n",
            "RangeIndex: 116 entries, 0 to 115\n",
            "Data columns (total 3 columns):\n",
            " #   Column    Non-Null Count  Dtype\n",
            "---  ------    --------------  -----\n",
            " 0   tahun     116 non-null    int64\n",
            " 1   pekan_ke  116 non-null    int64\n",
            " 2   jumlah    116 non-null    int64\n",
            "dtypes: int64(3)\n",
            "memory usage: 2.8 KB\n",
            "\n",
            "Lima data teratas cov_jabar_pekanan:\n",
            "    tahun  pekan_ke  jumlah\n",
            "0   2020        10       4\n",
            "1   2020        11       5\n",
            "2   2020        12      44\n",
            "3   2020        13      80\n",
            "4   2020        14      89\n"
          ]
        }
      ]
    },
    {
      "cell_type": "markdown",
      "source": [
        "**Menjawab Pertanyaan**\n",
        "\n",
        "\"Apakah pekan ini lebih baik dari pekan kemarin?\"\n",
        "\n",
        "Demi menjawab hal tersebut Anda melakukan kalkulasi sederhana dengan tahapan berikut:\n",
        "\n",
        "\n",
        "*   Membuat kolom baru yang berisi jumlah kasus baru dalam satu pekan sebelumnya. Kolom ini diberi nama jumlah_pekanlalu.\n",
        "*   Mengganti nilai NaN pada kolom jumlah_pekanlalu dengan nilai 0.\n",
        "*   Melakukan komparasi antara kolom jumlah dengan kolom jumlah_pekanlalu. Hasil komparasi ini disimpan dalam kolom baru dengan nama lebih_baik, isinya adalah True apabila jumlah kasus baru pekan ini lebih rendah dibandingkan jumlah kasus pekan lalu\n",
        "\n"
      ],
      "metadata": {
        "id": "A7TjtBQCnwCu"
      }
    },
    {
      "cell_type": "code",
      "source": [
        "cov_jabar_pekanan['jumlah_pekanlalu'] = cov_jabar_pekanan['jumlah'].shift().replace(np.nan, 0).astype(np.int)\n",
        "cov_jabar_pekanan['lebih_baik'] = cov_jabar_pekanan['jumlah'] < cov_jabar_pekanan['jumlah_pekanlalu']\n",
        "\n",
        "print('Sepuluh data teratas:\\n', cov_jabar_pekanan.head(10))"
      ],
      "metadata": {
        "colab": {
          "base_uri": "https://localhost:8080/"
        },
        "id": "Jl6iKqkKoMne",
        "outputId": "5e575c78-4516-47fb-dea1-9c644f037607"
      },
      "execution_count": null,
      "outputs": [
        {
          "output_type": "stream",
          "name": "stdout",
          "text": [
            "Sepuluh data teratas:\n",
            "    tahun  pekan_ke  jumlah  jumlah_pekanlalu  lebih_baik\n",
            "0   2020        10       4                 0       False\n",
            "1   2020        11       5                 4       False\n",
            "2   2020        12      44                 5       False\n",
            "3   2020        13      80                44       False\n",
            "4   2020        14      89                80       False\n",
            "5   2020        15     176                89       False\n",
            "6   2020        16     203               176       False\n",
            "7   2020        17     136               203        True\n",
            "8   2020        18     100               136        True\n",
            "9   2020        19     914               100       False\n"
          ]
        },
        {
          "output_type": "stream",
          "name": "stderr",
          "text": [
            "/usr/local/lib/python3.7/dist-packages/ipykernel_launcher.py:1: DeprecationWarning: `np.int` is a deprecated alias for the builtin `int`. To silence this warning, use `int` by itself. Doing this will not modify any behavior and is safe. When replacing `np.int`, you may wish to use e.g. `np.int64` or `np.int32` to specify the precision. If you wish to review your current use, check the release note link for additional information.\n",
            "Deprecated in NumPy 1.20; for more details and guidance: https://numpy.org/devdocs/release/1.20.0-notes.html#deprecations\n",
            "  \"\"\"Entry point for launching an IPython kernel.\n"
          ]
        }
      ]
    },
    {
      "cell_type": "markdown",
      "source": [
        "**Menjawab Pertanyaan**\n",
        "\n",
        "\"Apakah pekan ini lebih baik dari pekan kemarin?\"\n",
        "\n",
        "Demi menjawab hal tersebut Anda melakukan kalkulasi sederhana dengan tahapan berikut:\n",
        "\n",
        "\n",
        "*   Membuat kolom baru yang berisi jumlah kasus baru dalam satu pekan sebelumnya. Kolom ini diberi nama jumlah_pekanlalu.\n",
        "*   Mengganti nilai NaN pada kolom jumlah_pekanlalu dengan nilai 0.\n",
        "*   Melakukan komparasi antara kolom jumlah dengan kolom jumlah_pekanlalu. Hasil komparasi ini disimpan dalam kolom baru dengan nama lebih_baik, isinya adalah True apabila jumlah kasus baru pekan ini lebih rendah dibandingkan jumlah kasus pekan lalu.\n",
        "\n"
      ],
      "metadata": {
        "id": "oSBDxjZHR-s_"
      }
    },
    {
      "cell_type": "code",
      "source": [
        "import numpy as np\n",
        "import pandas as pd\n",
        "import requests\n",
        "resp_jabar = requests.get('https://data.covid19.go.id/public/api/prov_detail_JAWA_BARAT.json', verify=False)\n",
        "cov_jabar_raw = resp_jabar.json()\n",
        "cov_jabar = pd.DataFrame(cov_jabar_raw['list_perkembangan'])\n",
        "\n",
        "cov_jabar_tidy = (cov_jabar.drop(columns=[item for item in cov_jabar.columns \n",
        "                                               if item.startswith('AKUMULASI') \n",
        "                                                  or item.startswith('DIRAWAT')])\n",
        "                           .rename(columns=str.lower)\n",
        "                           .rename(columns={'kasus': 'kasus_baru'})\n",
        "                  )\n",
        "cov_jabar_tidy['tanggal'] = pd.to_datetime(cov_jabar_tidy['tanggal']*1e6, unit='ns')\n",
        "\n",
        "cov_jabar_pekanan = (cov_jabar_tidy.set_index('tanggal')['kasus_baru']\n",
        "                                   .resample('W')\n",
        "                                   .sum()\n",
        "                                   .reset_index()\n",
        "                                   .rename(columns={'kasus_baru': 'jumlah'})\n",
        "                    )\n",
        "cov_jabar_pekanan['tahun'] = cov_jabar_pekanan['tanggal'].apply(lambda x: x.year)\n",
        "cov_jabar_pekanan['pekan_ke'] = cov_jabar_pekanan['tanggal'].apply(lambda x: x.weekofyear)\n",
        "cov_jabar_pekanan = cov_jabar_pekanan[['tahun', 'pekan_ke', 'jumlah']]\n",
        "\n",
        "cov_jabar_pekanan['jumlah_pekanlalu'] = cov_jabar_pekanan['jumlah'].shift().replace(np.nan, 0).astype(np.int)\n",
        "cov_jabar_pekanan['lebih_baik'] = cov_jabar_pekanan['jumlah'] < cov_jabar_pekanan['jumlah_pekanlalu']\n",
        "\n",
        "print('Sepuluh data teratas:\\n', cov_jabar_pekanan.head(10))"
      ],
      "metadata": {
        "colab": {
          "base_uri": "https://localhost:8080/"
        },
        "id": "7vT3SELlScVE",
        "outputId": "9eaac3d5-e23e-4ca8-c574-a39752191812"
      },
      "execution_count": null,
      "outputs": [
        {
          "output_type": "stream",
          "name": "stderr",
          "text": [
            "/usr/local/lib/python3.7/dist-packages/urllib3/connectionpool.py:847: InsecureRequestWarning: Unverified HTTPS request is being made. Adding certificate verification is strongly advised. See: https://urllib3.readthedocs.io/en/latest/advanced-usage.html#ssl-warnings\n",
            "  InsecureRequestWarning)\n"
          ]
        },
        {
          "output_type": "stream",
          "name": "stdout",
          "text": [
            "Sepuluh data teratas:\n",
            "    tahun  pekan_ke  jumlah  jumlah_pekanlalu  lebih_baik\n",
            "0   2020        10       4                 0       False\n",
            "1   2020        11       5                 4       False\n",
            "2   2020        12      44                 5       False\n",
            "3   2020        13      80                44       False\n",
            "4   2020        14      89                80       False\n",
            "5   2020        15     176                89       False\n",
            "6   2020        16     203               176       False\n",
            "7   2020        17     136               203        True\n",
            "8   2020        18     100               136        True\n",
            "9   2020        19     914               100       False\n"
          ]
        },
        {
          "output_type": "stream",
          "name": "stderr",
          "text": [
            "/usr/local/lib/python3.7/dist-packages/ipykernel_launcher.py:26: DeprecationWarning: `np.int` is a deprecated alias for the builtin `int`. To silence this warning, use `int` by itself. Doing this will not modify any behavior and is safe. When replacing `np.int`, you may wish to use e.g. `np.int64` or `np.int32` to specify the precision. If you wish to review your current use, check the release note link for additional information.\n",
            "Deprecated in NumPy 1.20; for more details and guidance: https://numpy.org/devdocs/release/1.20.0-notes.html#deprecations\n"
          ]
        }
      ]
    },
    {
      "cell_type": "markdown",
      "source": [
        "**Membuat Bar Chart**"
      ],
      "metadata": {
        "id": "QA83-X7xYQKg"
      }
    },
    {
      "cell_type": "code",
      "source": [
        "import matplotlib.pyplot as plt\n",
        "\n",
        "plt.clf()\n",
        "jml_tahun_terjadi_covid19 = cov_jabar_pekanan['tahun'].nunique()\n",
        "tahun_terjadi_covid19 = cov_jabar_pekanan['tahun'].unique()\n",
        "fig, axes = plt.subplots(nrows=jml_tahun_terjadi_covid19,\n",
        "\t\t\t\t\t\tfigsize=(10,3*jml_tahun_terjadi_covid19))\n",
        "\n",
        "fig.suptitle('Kasus Pekanan Positif COVID-19 di Jawa Barat',\n",
        "\t\t\ty=1.00, fontsize=16, fontweight='bold', ha='center')\n",
        "for i, ax in enumerate(axes):\n",
        "\tax.bar(data=cov_jabar_pekanan.loc[cov_jabar_pekanan['tahun']==tahun_terjadi_covid19[i]], x='pekan_ke',height='jumlah',\n",
        "\t\t  color=['mediumseagreen' if x is True else 'salmon'\n",
        "\t\t\t\tfor x in cov_jabar_pekanan['lebih_baik']])\n",
        "\tif i == 0:\n",
        "\t   ax.set_title('Kolom hijau menunjukkan penambahan kasus baru lebih sedikit dibandingkan satu pekan sebelumnya',\n",
        "\t\t\t\t   fontsize=10)\n",
        "\telif i == jml_tahun_terjadi_covid19-1:\n",
        "\t\tax.text(1, -0.2, 'Sumber data: covid.19.go.id', color='blue',\n",
        "\t\t\t   ha='right', transform=ax.transAxes)\n",
        "\t\t\n",
        "\tax.set_xlim([0, 52.5])\n",
        "\tax.set_ylim([0, max(cov_jabar_pekanan['jumlah'])])\n",
        "\tax.set_xlabel('')\n",
        "\tax.set_ylabel('Jumlah kasus %d'%(tahun_terjadi_covid19[i],))\n",
        "\tax.grid(axis='y')\n",
        "plt.tight_layout()\n",
        "plt.show()"
      ],
      "metadata": {
        "colab": {
          "base_uri": "https://localhost:8080/",
          "height": 691
        },
        "id": "HOrnD4tdisyZ",
        "outputId": "9feec0a8-2320-467b-c403-e38b4818d28c"
      },
      "execution_count": null,
      "outputs": [
        {
          "output_type": "display_data",
          "data": {
            "text/plain": [
              "<Figure size 432x288 with 0 Axes>"
            ]
          },
          "metadata": {}
        },
        {
          "output_type": "display_data",
          "data": {
            "text/plain": [
              "<Figure size 720x648 with 3 Axes>"
            ],
            "image/png": "[encoded data removed]"
          },
          "metadata": {
            "needs_background": "light"
          }
        }
      ]
    },
    {
      "cell_type": "markdown",
      "source": [
        "**Pola dan Dinamika**\n",
        "\n",
        "Ada yang akhirnya sembuh, namun tak sedikit pula yang meninggal akibat COVID-19. Sementara itu penambahan kasus baru terus terjadi di masyarakat. Hal ini mungkin memicu pertanyaan lain di diri Anda: \"Hingga saat ini ada berapa kasus yang masih aktif?\"\n",
        "\n",
        "Aktif dalam artian sedang dalam perawatan atau isolasi.\n",
        "\n",
        "Informasi ini sebenarnya telah disediakan di dalam respon API covid19.go.id yang Anda minta. Namun tidak ada salahnya jika Anda mencoba menghitungnya sendiri, apakah Anda setuju?\n",
        "\n",
        "Jumlah kasus aktif dapat dihitung dengan cara mengurangi jumlah akumulasi positif dengan jumlah akumulasi sembuh dan jumlah akumulasi meninggal. Anda dapat menggunakan method cumsum() untuk menghitung nilai akumulasi dari suatu vektor numerik."
      ],
      "metadata": {
        "id": "XKdLOnWLmglc"
      }
    },
    {
      "cell_type": "code",
      "source": [
        "cov_jabar_akumulasi = cov_jabar_tidy[['tanggal']].copy()\n",
        "cov_jabar_akumulasi['akumulasi_aktif'] = (cov_jabar_tidy['kasus_baru'] - cov_jabar_tidy['sembuh'] - cov_jabar_tidy['meninggal']).cumsum()\n",
        "cov_jabar_akumulasi['akumulasi_sembuh'] = cov_jabar_tidy['sembuh'].cumsum()\n",
        "cov_jabar_akumulasi['akumulasi_meninggal'] = cov_jabar_tidy['meninggal'].cumsum()\n",
        "cov_jabar_akumulasi.tail()"
      ],
      "metadata": {
        "colab": {
          "base_uri": "https://localhost:8080/",
          "height": 206
        },
        "id": "LwR0ytb-m9Xw",
        "outputId": "87d7e8af-f7f6-40aa-c21f-6375b7aa9471"
      },
      "execution_count": null,
      "outputs": [
        {
          "output_type": "execute_result",
          "data": {
            "text/plain": [
              "       tanggal  akumulasi_aktif  akumulasi_sembuh  akumulasi_meninggal\n",
              "801 2022-05-13             1489           1088672                15788\n",
              "802 2022-05-14             1509           1088690                15789\n",
              "803 2022-05-15             1403           1088835                15790\n",
              "804 2022-05-16             1382           1088870                15791\n",
              "805 2022-05-17              641           1089646                15798"
            ],
            "text/html": [
              "\n",
              "  <div id=\"df-3d914b5b-c9e7-47f9-93b1-102ccf5e642f\">\n",
              "    <div class=\"colab-df-container\">\n",
              "      <div>\n",
              "<style scoped>\n",
              "    .dataframe tbody tr th:only-of-type {\n",
              "        vertical-align: middle;\n",
              "    }\n",
              "\n",
              "    .dataframe tbody tr th {\n",
              "        vertical-align: top;\n",
              "    }\n",
              "\n",
              "    .dataframe thead th {\n",
              "        text-align: right;\n",
              "    }\n",
              "</style>\n",
              "<table border=\"1\" class=\"dataframe\">\n",
              "  <thead>\n",
              "    <tr style=\"text-align: right;\">\n",
              "      <th></th>\n",
              "      <th>tanggal</th>\n",
              "      <th>akumulasi_aktif</th>\n",
              "      <th>akumulasi_sembuh</th>\n",
              "      <th>akumulasi_meninggal</th>\n",
              "    </tr>\n",
              "  </thead>\n",
              "  <tbody>\n",
              "    <tr>\n",
              "      <th>801</th>\n",
              "      <td>2022-05-13</td>\n",
              "      <td>1489</td>\n",
              "      <td>1088672</td>\n",
              "      <td>15788</td>\n",
              "    </tr>\n",
              "    <tr>\n",
              "      <th>802</th>\n",
              "      <td>2022-05-14</td>\n",
              "      <td>1509</td>\n",
              "      <td>1088690</td>\n",
              "      <td>15789</td>\n",
              "    </tr>\n",
              "    <tr>\n",
              "      <th>803</th>\n",
              "      <td>2022-05-15</td>\n",
              "      <td>1403</td>\n",
              "      <td>1088835</td>\n",
              "      <td>15790</td>\n",
              "    </tr>\n",
              "    <tr>\n",
              "      <th>804</th>\n",
              "      <td>2022-05-16</td>\n",
              "      <td>1382</td>\n",
              "      <td>1088870</td>\n",
              "      <td>15791</td>\n",
              "    </tr>\n",
              "    <tr>\n",
              "      <th>805</th>\n",
              "      <td>2022-05-17</td>\n",
              "      <td>641</td>\n",
              "      <td>1089646</td>\n",
              "      <td>15798</td>\n",
              "    </tr>\n",
              "  </tbody>\n",
              "</table>\n",
              "</div>\n",
              "      <button class=\"colab-df-convert\" onclick=\"convertToInteractive('df-3d914b5b-c9e7-47f9-93b1-102ccf5e642f')\"\n",
              "              title=\"Convert this dataframe to an interactive table.\"\n",
              "              style=\"display:none;\">\n",
              "        \n",
              "  <svg xmlns=\"http://www.w3.org/2000/svg\" height=\"24px\"viewBox=\"0 0 24 24\"\n",
              "       width=\"24px\">\n",
              "    <path d=\"M0 0h24v24H0V0z\" fill=\"none\"/>\n",
              "    <path d=\"M18.56 5.44l.94 2.06.94-2.06 2.06-.94-2.06-.94-.94-2.06-.94 2.06-2.06.94zm-11 1L8.5 8.5l.94-2.06 2.06-.94-2.06-.94L8.5 2.5l-.94 2.06-2.06.94zm10 10l.94 2.06.94-2.06 2.06-.94-2.06-.94-.94-2.06-.94 2.06-2.06.94z\"/><path d=\"M17.41 7.96l-1.37-1.37c-.4-.4-.92-.59-1.43-.59-.52 0-1.04.2-1.43.59L10.3 9.45l-7.72 7.72c-.78.78-.78 2.05 0 2.83L4 21.41c.39.39.9.59 1.41.59.51 0 1.02-.2 1.41-.59l7.78-7.78 2.81-2.81c.8-.78.8-2.07 0-2.86zM5.41 20L4 18.59l7.72-7.72 1.47 1.35L5.41 20z\"/>\n",
              "  </svg>\n",
              "      </button>\n",
              "      \n",
              "  <style>\n",
              "    .colab-df-container {\n",
              "      display:flex;\n",
              "      flex-wrap:wrap;\n",
              "      gap: 12px;\n",
              "    }\n",
              "\n",
              "    .colab-df-convert {\n",
              "      background-color: #E8F0FE;\n",
              "      border: none;\n",
              "      border-radius: 50%;\n",
              "      cursor: pointer;\n",
              "      display: none;\n",
              "      fill: #1967D2;\n",
              "      height: 32px;\n",
              "      padding: 0 0 0 0;\n",
              "      width: 32px;\n",
              "    }\n",
              "\n",
              "    .colab-df-convert:hover {\n",
              "      background-color: #E2EBFA;\n",
              "      box-shadow: 0px 1px 2px rgba(60, 64, 67, 0.3), 0px 1px 3px 1px rgba(60, 64, 67, 0.15);\n",
              "      fill: #174EA6;\n",
              "    }\n",
              "\n",
              "    [theme=dark] .colab-df-convert {\n",
              "      background-color: #3B4455;\n",
              "      fill: #D2E3FC;\n",
              "    }\n",
              "\n",
              "    [theme=dark] .colab-df-convert:hover {\n",
              "      background-color: #434B5C;\n",
              "      box-shadow: 0px 1px 3px 1px rgba(0, 0, 0, 0.15);\n",
              "      filter: drop-shadow(0px 1px 2px rgba(0, 0, 0, 0.3));\n",
              "      fill: #FFFFFF;\n",
              "    }\n",
              "  </style>\n",
              "\n",
              "      <script>\n",
              "        const buttonEl =\n",
              "          document.querySelector('#df-3d914b5b-c9e7-47f9-93b1-102ccf5e642f button.colab-df-convert');\n",
              "        buttonEl.style.display =\n",
              "          google.colab.kernel.accessAllowed ? 'block' : 'none';\n",
              "\n",
              "        async function convertToInteractive(key) {\n",
              "          const element = document.querySelector('#df-3d914b5b-c9e7-47f9-93b1-102ccf5e642f');\n",
              "          const dataTable =\n",
              "            await google.colab.kernel.invokeFunction('convertToInteractive',\n",
              "                                                     [key], {});\n",
              "          if (!dataTable) return;\n",
              "\n",
              "          const docLinkHtml = 'Like what you see? Visit the ' +\n",
              "            '<a target=\"_blank\" href=https://colab.research.google.com/notebooks/data_table.ipynb>data table notebook</a>'\n",
              "            + ' to learn more about interactive tables.';\n",
              "          element.innerHTML = '';\n",
              "          dataTable['output_type'] = 'display_data';\n",
              "          await google.colab.output.renderOutput(dataTable, element);\n",
              "          const docLink = document.createElement('div');\n",
              "          docLink.innerHTML = docLinkHtml;\n",
              "          element.appendChild(docLink);\n",
              "        }\n",
              "      </script>\n",
              "    </div>\n",
              "  </div>\n",
              "  "
            ]
          },
          "metadata": {},
          "execution_count": 10
        }
      ]
    },
    {
      "cell_type": "markdown",
      "source": [
        "**Membuat Line Chart**\n",
        "\n",
        "Sekarang kita akan membuat line-chart pola kasus aktif dengan menggunakan method plot pada ax"
      ],
      "metadata": {
        "id": "lgJcuWBknH0C"
      }
    },
    {
      "cell_type": "code",
      "source": [
        "import matplotlib.dates as mdates\n",
        "\n",
        "plt.clf()\n",
        "fig, ax = plt.subplots(figsize=(10,5))\n",
        "ax.plot('tanggal', 'akumulasi_aktif', data=cov_jabar_akumulasi, lw=2)\n",
        "\n",
        "ax.set_title('Akumulasi aktif COVID-19 di Jawa Barat',\n",
        "fontsize=22)\n",
        "ax.set_xlabel('')\n",
        "ax.set_ylabel('Akumulasi aktif')\n",
        "ax.text(1, -0.1, 'Sumber data: covid.19.go.id', color='blue',\n",
        "ha='right', transform=ax.transAxes)\n",
        "\n",
        "ax.xaxis.set_major_locator(mdates.MonthLocator())\n",
        "ax.xaxis.set_major_formatter(mdates.DateFormatter('%b %Y'))\n",
        "\n",
        "plt.grid()\n",
        "plt.tight_layout()\n",
        "plt.show()"
      ],
      "metadata": {
        "colab": {
          "base_uri": "https://localhost:8080/",
          "height": 388
        },
        "id": "-tsAqKeNnM6Q",
        "outputId": "b077c9d3-a23d-4126-db65-c1433b806679"
      },
      "execution_count": null,
      "outputs": [
        {
          "output_type": "display_data",
          "data": {
            "text/plain": [
              "<Figure size 432x288 with 0 Axes>"
            ]
          },
          "metadata": {}
        },
        {
          "output_type": "display_data",
          "data": {
            "text/plain": [
              "<Figure size 720x360 with 1 Axes>"
            ],
            "image/png": "[encoded data removed]"
          },
          "metadata": {
            "needs_background": "light"
          }
        }
      ]
    },
    {
      "cell_type": "markdown",
      "source": [
        "**Kabar Buruk dan Kabar Baik**\n",
        "\n",
        "Sebagai penutup analisis dalam proyek ini kita akan membuat grafik komparasi antara akumulasi kasus aktif, kasus sembuh, dan kasus meninggal.\n",
        "\n",
        "Ada dua pilihan cara yang dapat Anda tempuh untuk membuat grafik tersebut:\n",
        "\n",
        "Menggunakan data frame cov_jabar_akumulasi, kemudian langsung melakukan line plot dan memilih warna garis yang sesuai untuk membedakan; atau\n",
        "Menggunakan ax.plot() dan mengisikan kolom-kolom yang masing-masingnya menjadi x dan y dengan data=cov_jabar_akumulasi, dan kemudian menset warna berbeda untuk ketiga line plot."
      ],
      "metadata": {
        "id": "OHhh01ngnSsg"
      }
    },
    {
      "cell_type": "code",
      "source": [
        "plt.clf()\n",
        "fig, ax = plt.subplots(figsize=(10,5))\n",
        "cov_jabar_akumulasi.plot(x='tanggal', kind='line', ax=ax, lw=3,\n",
        "color=['salmon', 'slategrey', 'olivedrab'])\n",
        "\n",
        "ax.set_title('Dinamika Kasus COVID-19 di Jawa Barat',\n",
        "fontsize=22)\n",
        "ax.set_xlabel('')\n",
        "ax.set_ylabel('Akumulasi aktif')\n",
        "ax.text(1, -0.1, 'Sumber data: covid.19.go.id', color='blue',\n",
        "ha='right', transform=ax.transAxes)\n",
        "\n",
        "ax.xaxis.set_major_locator(mdates.MonthLocator())\n",
        "ax.xaxis.set_major_formatter(mdates.DateFormatter('%b'))\n",
        "\n",
        "plt.grid()\n",
        "plt.tight_layout()\n",
        "plt.show()"
      ],
      "metadata": {
        "colab": {
          "base_uri": "https://localhost:8080/",
          "height": 388
        },
        "id": "yWnD7s28ncBq",
        "outputId": "9fd5ba94-9e36-4b57-f991-b48c832cc9e9"
      },
      "execution_count": null,
      "outputs": [
        {
          "output_type": "display_data",
          "data": {
            "text/plain": [
              "<Figure size 432x288 with 0 Axes>"
            ]
          },
          "metadata": {}
        },
        {
          "output_type": "display_data",
          "data": {
            "text/plain": [
              "<Figure size 720x360 with 1 Axes>"
            ],
            "image/png": "[encoded data removed]"
          },
          "metadata": {
            "needs_background": "light"
          }
        }
      ]
    },
    {
      "cell_type": "markdown",
      "source": [
        "**Kesimpulan & Penutup**\n",
        "\n",
        "Kita telah menyelesaikan proyek analisis COVID-19 ini! Kita telah berhasil melakukan impor data melalui API, melakukan transformasi data, serta membuat visualisasi untuk mengkomunikasikan hasil analisis data tentang COVID-19. Kita dipersilakan untuk selanjutnya mengembangkan analisis dengan cara mengambil studi kasus provinsi lain atau bahkan melakukan komparasi antar provinsi."
      ],
      "metadata": {
        "id": "aAQuq01Ynj56"
      }
    }
  ]
}